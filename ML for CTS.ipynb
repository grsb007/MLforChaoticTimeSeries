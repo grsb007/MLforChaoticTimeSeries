{
 "cells": [
  {
   "cell_type": "markdown",
   "metadata": {},
   "source": [
    "# MACHINE LEARNING FOR CHAOTIC TIME SERIES"
   ]
  },
  {
   "cell_type": "code",
   "execution_count": 1,
   "metadata": {},
   "outputs": [],
   "source": [
    "# Import Standard Libraries\n",
    "import pandas as pd\n",
    "import numpy as np\n",
    "import matplotlib.pyplot as plt\n",
    "import datetime"
   ]
  },
  {
   "cell_type": "code",
   "execution_count": 2,
   "metadata": {},
   "outputs": [],
   "source": [
    "# Resampling Dictionary\n",
    "ohlc_dict = {\n",
    "'open':'first',\n",
    "'high':'max',\n",
    "'low':'min',\n",
    "'close':'last',\n",
    "'volume':'sum',\n",
    "'time':'first',\n",
    "'date':'first'\n",
    "}"
   ]
  },
  {
   "cell_type": "markdown",
   "metadata": {},
   "source": [
    "## Fetching BANKNIFTY index price data"
   ]
  },
  {
   "cell_type": "code",
   "execution_count": 3,
   "metadata": {},
   "outputs": [],
   "source": [
    "# Read Price Data from CSV\n",
    "price_data_raw = pd.read_csv('/home/blackrose/Blackprint/Data/NIFTYBANK_1m.csv')\n",
    "# Adjust column order\n",
    "price_data_raw = price_data_raw['date open high low close volume'.split()]\n",
    "# Rename columns\n",
    "price_data_raw.columns = 'datetime open high low close volume'.split()\n",
    "# Remove +5:30 extension from timestamp strings\n",
    "price_data_raw['datetime'] = price_data_raw['datetime'].apply(lambda x: x.split('+')[0])\n",
    "# Convert timestamp strings to datetime objects\n",
    "price_data_raw['datetime'] = price_data_raw['datetime'].apply(lambda x: datetime.datetime.strptime(x, '%Y-%m-%d %H:%M:%S'))\n",
    "# Create column of time values\n",
    "price_data_raw['time'] = price_data_raw['datetime'].apply(lambda x: x.time())\n",
    "# Create column of date values\n",
    "price_data_raw['date'] = price_data_raw['datetime'].apply(lambda x: x.date())\n",
    "# Set datetime column as index\n",
    "price_data_raw.set_index('datetime', inplace=True)"
   ]
  },
  {
   "cell_type": "code",
   "execution_count": 4,
   "metadata": {},
   "outputs": [],
   "source": [
    "# Create working copy of raw price data\n",
    "price_data = price_data_raw.loc['2015-01-01':].copy().dropna()\n",
    "# Resample 1min prices to 15min\n",
    "price_data = price_data.resample('15min', closed='left', label='left').apply(ohlc_dict).dropna()"
   ]
  },
  {
   "cell_type": "markdown",
   "metadata": {},
   "source": [
    "______\n",
    "\n",
    "## Analysing data for chaotic behavior"
   ]
  },
  {
   "cell_type": "markdown",
   "metadata": {},
   "source": [
    "**Nolds:** is a library that provides numpy-based implementation for nonlinear measures of dynamical systems based on one-dimensional time series."
   ]
  },
  {
   "cell_type": "code",
   "execution_count": 5,
   "metadata": {},
   "outputs": [],
   "source": [
    "import nolds"
   ]
  },
  {
   "cell_type": "code",
   "execution_count": 6,
   "metadata": {},
   "outputs": [],
   "source": [
    "# Select part of the in sample price data \n",
    "subset = price_data['close'].iloc[:int(len(price_data)*0.3)].values"
   ]
  },
  {
   "cell_type": "markdown",
   "metadata": {},
   "source": [
    "### Lyapunov Exponent\n",
    "\n",
    "MLE: Maximum Lyapunov Exponent\n",
    "\n",
    "* **MLE > 0:** Data suggests system is chaotic\n",
    "* **MLE < 0:** Data suggests system is not chaotic"
   ]
  },
  {
   "cell_type": "code",
   "execution_count": 7,
   "metadata": {
    "scrolled": false
   },
   "outputs": [
    {
     "data": {
      "text/plain": [
       "0.14416279"
      ]
     },
     "execution_count": 7,
     "metadata": {},
     "output_type": "execute_result"
    }
   ],
   "source": [
    "nolds.lyap_e(subset)[0]"
   ]
  },
  {
   "cell_type": "markdown",
   "metadata": {},
   "source": [
    "### Hurst Exponent\n",
    "\n",
    "* **HE > 0.5:** Positive Long-Term Correlation\n",
    "* **HE ~= 0.5:** No Long-Term Correlation\n",
    "* **HE < 0.5:** Negative Long-Term Correlation"
   ]
  },
  {
   "cell_type": "code",
   "execution_count": 8,
   "metadata": {},
   "outputs": [
    {
     "data": {
      "text/plain": [
       "0.9586167377535618"
      ]
     },
     "execution_count": 8,
     "metadata": {},
     "output_type": "execute_result"
    }
   ],
   "source": [
    "nolds.hurst_rs(subset)"
   ]
  },
  {
   "cell_type": "markdown",
   "metadata": {},
   "source": [
    "________"
   ]
  },
  {
   "cell_type": "markdown",
   "metadata": {},
   "source": [
    "## Data Features\n",
    "\n",
    "**Input:** Closing prices of last 3 hours at 15 minute intervals.\n",
    "\n",
    "**Target:** Price of instrument 15 mins from now."
   ]
  },
  {
   "cell_type": "code",
   "execution_count": 9,
   "metadata": {},
   "outputs": [],
   "source": [
    "# Create input Variable Columns by shifting past price data into single row.\n",
    "price_data['close-1'] = price_data['close'].shift()\n",
    "price_data['close-2'] = price_data['close'].shift(2)\n",
    "price_data['close-3'] = price_data['close'].shift(3)\n",
    "price_data['close-4'] = price_data['close'].shift(4)\n",
    "price_data['close-5'] = price_data['close'].shift(5)\n",
    "price_data['close-6'] = price_data['close'].shift(6)\n",
    "price_data['close-7'] = price_data['close'].shift(7)\n",
    "\n",
    "# Create Target/Output Variable Columns by shifting price data into previous row.\n",
    "price_data['close+1'] = price_data['close'].shift(-1)"
   ]
  },
  {
   "cell_type": "code",
   "execution_count": 10,
   "metadata": {},
   "outputs": [],
   "source": [
    "# Select input & target variable columns\n",
    "price_data = price_data['close close-1 close-2 close-3 close-4 close-5 close-6 close-7 close+1'.split()].copy()"
   ]
  },
  {
   "cell_type": "code",
   "execution_count": 11,
   "metadata": {},
   "outputs": [],
   "source": [
    "# Remove NaNs from price data\n",
    "price_data = price_data.dropna()"
   ]
  },
  {
   "cell_type": "code",
   "execution_count": 12,
   "metadata": {},
   "outputs": [
    {
     "data": {
      "text/html": [
       "<div>\n",
       "<style scoped>\n",
       "    .dataframe tbody tr th:only-of-type {\n",
       "        vertical-align: middle;\n",
       "    }\n",
       "\n",
       "    .dataframe tbody tr th {\n",
       "        vertical-align: top;\n",
       "    }\n",
       "\n",
       "    .dataframe thead th {\n",
       "        text-align: right;\n",
       "    }\n",
       "</style>\n",
       "<table border=\"1\" class=\"dataframe\">\n",
       "  <thead>\n",
       "    <tr style=\"text-align: right;\">\n",
       "      <th></th>\n",
       "      <th>close</th>\n",
       "      <th>close-1</th>\n",
       "      <th>close-2</th>\n",
       "      <th>close-3</th>\n",
       "      <th>close-4</th>\n",
       "      <th>close-5</th>\n",
       "      <th>close-6</th>\n",
       "      <th>close-7</th>\n",
       "      <th>close+1</th>\n",
       "    </tr>\n",
       "    <tr>\n",
       "      <th>datetime</th>\n",
       "      <th></th>\n",
       "      <th></th>\n",
       "      <th></th>\n",
       "      <th></th>\n",
       "      <th></th>\n",
       "      <th></th>\n",
       "      <th></th>\n",
       "      <th></th>\n",
       "      <th></th>\n",
       "    </tr>\n",
       "  </thead>\n",
       "  <tbody>\n",
       "    <tr>\n",
       "      <th>2015-01-09 11:00:00</th>\n",
       "      <td>18779.35</td>\n",
       "      <td>18778.30</td>\n",
       "      <td>18764.00</td>\n",
       "      <td>18803.00</td>\n",
       "      <td>18781.15</td>\n",
       "      <td>18802.90</td>\n",
       "      <td>18771.60</td>\n",
       "      <td>18815.15</td>\n",
       "      <td>18734.15</td>\n",
       "    </tr>\n",
       "    <tr>\n",
       "      <th>2015-01-09 11:15:00</th>\n",
       "      <td>18734.15</td>\n",
       "      <td>18779.35</td>\n",
       "      <td>18778.30</td>\n",
       "      <td>18764.00</td>\n",
       "      <td>18803.00</td>\n",
       "      <td>18781.15</td>\n",
       "      <td>18802.90</td>\n",
       "      <td>18771.60</td>\n",
       "      <td>18699.65</td>\n",
       "    </tr>\n",
       "    <tr>\n",
       "      <th>2015-01-09 11:30:00</th>\n",
       "      <td>18699.65</td>\n",
       "      <td>18734.15</td>\n",
       "      <td>18779.35</td>\n",
       "      <td>18778.30</td>\n",
       "      <td>18764.00</td>\n",
       "      <td>18803.00</td>\n",
       "      <td>18781.15</td>\n",
       "      <td>18802.90</td>\n",
       "      <td>18715.30</td>\n",
       "    </tr>\n",
       "    <tr>\n",
       "      <th>2015-01-09 11:45:00</th>\n",
       "      <td>18715.30</td>\n",
       "      <td>18699.65</td>\n",
       "      <td>18734.15</td>\n",
       "      <td>18779.35</td>\n",
       "      <td>18778.30</td>\n",
       "      <td>18764.00</td>\n",
       "      <td>18803.00</td>\n",
       "      <td>18781.15</td>\n",
       "      <td>18616.35</td>\n",
       "    </tr>\n",
       "    <tr>\n",
       "      <th>2015-01-09 12:00:00</th>\n",
       "      <td>18616.35</td>\n",
       "      <td>18715.30</td>\n",
       "      <td>18699.65</td>\n",
       "      <td>18734.15</td>\n",
       "      <td>18779.35</td>\n",
       "      <td>18778.30</td>\n",
       "      <td>18764.00</td>\n",
       "      <td>18803.00</td>\n",
       "      <td>18585.55</td>\n",
       "    </tr>\n",
       "  </tbody>\n",
       "</table>\n",
       "</div>"
      ],
      "text/plain": [
       "                        close   close-1   close-2   close-3   close-4  \\\n",
       "datetime                                                                \n",
       "2015-01-09 11:00:00  18779.35  18778.30  18764.00  18803.00  18781.15   \n",
       "2015-01-09 11:15:00  18734.15  18779.35  18778.30  18764.00  18803.00   \n",
       "2015-01-09 11:30:00  18699.65  18734.15  18779.35  18778.30  18764.00   \n",
       "2015-01-09 11:45:00  18715.30  18699.65  18734.15  18779.35  18778.30   \n",
       "2015-01-09 12:00:00  18616.35  18715.30  18699.65  18734.15  18779.35   \n",
       "\n",
       "                      close-5   close-6   close-7   close+1  \n",
       "datetime                                                     \n",
       "2015-01-09 11:00:00  18802.90  18771.60  18815.15  18734.15  \n",
       "2015-01-09 11:15:00  18781.15  18802.90  18771.60  18699.65  \n",
       "2015-01-09 11:30:00  18803.00  18781.15  18802.90  18715.30  \n",
       "2015-01-09 11:45:00  18764.00  18803.00  18781.15  18616.35  \n",
       "2015-01-09 12:00:00  18778.30  18764.00  18803.00  18585.55  "
      ]
     },
     "execution_count": 12,
     "metadata": {},
     "output_type": "execute_result"
    }
   ],
   "source": [
    "price_data.head()"
   ]
  },
  {
   "cell_type": "code",
   "execution_count": 13,
   "metadata": {},
   "outputs": [],
   "source": [
    "# Convert dataframe to numpy array\n",
    "data = price_data.values\n",
    "# Lenght of input data\n",
    "inputLength = len(data)\n",
    "# Train/Test Split: 70/30\n",
    "trainingLength = int(inputLength*0.7)"
   ]
  },
  {
   "cell_type": "code",
   "execution_count": 14,
   "metadata": {},
   "outputs": [],
   "source": [
    "# Create array of input data\n",
    "inputData = data[:, :8]\n",
    "# Create array of output data\n",
    "outputData = data[:, 8]\n",
    "# Reshape \n",
    "outputData = outputData.reshape(len(outputData), 1)\n",
    "\n",
    "# Split input data into training and validation sets\n",
    "inputDataTraining = inputData[:trainingLength]\n",
    "inputDataValidation = inputData[trainingLength:]\n",
    "\n",
    "# Split output data into training and validation sets\n",
    "outputDataTraining = outputData[:trainingLength]\n",
    "outputDataValidation = outputData[trainingLength:]"
   ]
  },
  {
   "cell_type": "markdown",
   "metadata": {},
   "source": [
    "________"
   ]
  },
  {
   "cell_type": "markdown",
   "metadata": {},
   "source": [
    "## Building an Echo State Network"
   ]
  },
  {
   "cell_type": "markdown",
   "metadata": {},
   "source": [
    "**EasyESN:** is a library for echo state networks with a high level easy to use API similar to sklearn."
   ]
  },
  {
   "cell_type": "code",
   "execution_count": 15,
   "metadata": {},
   "outputs": [
    {
     "name": "stderr",
     "output_type": "stream",
     "text": [
      "Using Numpy backend.\n"
     ]
    }
   ],
   "source": [
    "from easyesn import PredictionESN"
   ]
  },
  {
   "cell_type": "code",
   "execution_count": 16,
   "metadata": {},
   "outputs": [],
   "source": [
    "### Initialize model of Prediction ESN class ###\n",
    "# Inputs = 8\n",
    "# Output = 1\n",
    "# Reservoir Nodes = 800\n",
    "# Leaking Rate = 0.2\n",
    "# Regression Params = 1e-2\n",
    "# Solver = Least Squares\n",
    "# Feedback = False\n",
    "# Input Scaling = Yes\n",
    "\n",
    "esn = PredictionESN(n_input=8, n_output=1, n_reservoir=800, leakingRate=0.2, solver=\"lsqr\", feedback=False, inputScaling=1, regressionParameters=[1e-2])"
   ]
  },
  {
   "cell_type": "code",
   "execution_count": 17,
   "metadata": {},
   "outputs": [
    {
     "name": "stderr",
     "output_type": "stream",
     "text": [
      "100% (20622 of 20622) |##################| Elapsed Time: 0:00:04 Time:  0:00:04\n"
     ]
    },
    {
     "data": {
      "text/plain": [
       "42.309269982392856"
      ]
     },
     "execution_count": 17,
     "metadata": {},
     "output_type": "execute_result"
    }
   ],
   "source": [
    "### Train the ESN\n",
    "# Transient Time = Auto\n",
    "# Verbose = 1\n",
    "esn.fit(inputDataTraining, outputDataTraining, transientTime=\"Auto\", verbose=1)"
   ]
  },
  {
   "cell_type": "code",
   "execution_count": 18,
   "metadata": {},
   "outputs": [],
   "source": [
    "# Create one step prediction on training data\n",
    "one_step_prediction = esn.predict(inputDataValidation)"
   ]
  },
  {
   "cell_type": "code",
   "execution_count": 19,
   "metadata": {},
   "outputs": [],
   "source": [
    "# Create Series out of sample price data into\n",
    "oos = pd.Series(outputDataValidation.T[0])\n",
    "# Create Series of the one setop predictions\n",
    "prediction = pd.Series(one_step_prediction.T[0])\n",
    "# Compute forecast as difference between prediction and current price\n",
    "forecast = (prediction - oos.shift())\n",
    "# If forecast suggests up move, go long\n",
    "longs = (oos[forecast > 0] - oos.shift()[forecast > 0])\n",
    "# If forecast suggest down move, go short\n",
    "shorts = (- oos[forecast < 0] + oos.shift()[forecast < 0])\n",
    "# Combine long and short trades into single pandas Series\n",
    "trades = pd.concat([longs, shorts], axis=1).fillna(0).sum(axis=1)"
   ]
  },
  {
   "cell_type": "code",
   "execution_count": 20,
   "metadata": {
    "scrolled": true
   },
   "outputs": [
    {
     "data": {
      "text/plain": [
       "<matplotlib.legend.Legend at 0x7fd5750f8390>"
      ]
     },
     "execution_count": 20,
     "metadata": {},
     "output_type": "execute_result"
    },
    {
     "data": {
      "image/png": "[encoded data removed]",
      "text/plain": [
       "<Figure size 432x288 with 1 Axes>"
      ]
     },
     "metadata": {
      "needs_background": "light"
     },
     "output_type": "display_data"
    }
   ],
   "source": [
    "# Create plot of trade returns\n",
    "trades.cumsum().plot()\n",
    "# Create plot of out of sample returns\n",
    "oos.diff().cumsum().plot()\n",
    "# Plot legend\n",
    "plt.legend(['strategy returns', 'instrument returns'])"
   ]
  },
  {
   "cell_type": "markdown",
   "metadata": {},
   "source": [
    "____"
   ]
  },
  {
   "cell_type": "markdown",
   "metadata": {},
   "source": [
    "# THANK YOU! :D\n",
    "\n",
    "### Email: vihan13singh@gmail.com\n",
    "\n",
    "### Company Website: www.blackrose.tech/\n",
    "\n",
    "### Company Email: contact@blackrose.tech\n",
    "\n",
    "### Phone No. : +91-9810171088\n",
    "\n",
    "### Twitter: @vihan13singh\n",
    "\n",
    "### Github: www.github.com/vihan13singh"
   ]
  }
 ],
 "metadata": {
  "kernelspec": {
   "display_name": "Python 3",
   "language": "python",
   "name": "python3"
  },
  "language_info": {
   "codemirror_mode": {
    "name": "ipython",
    "version": 3
   },
   "file_extension": ".py",
   "mimetype": "text/x-python",
   "name": "python",
   "nbconvert_exporter": "python",
   "pygments_lexer": "ipython3",
   "version": "3.7.3"
  }
 },
 "nbformat": 4,
 "nbformat_minor": 2
}
